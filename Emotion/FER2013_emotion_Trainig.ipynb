{
 "cells": [
  {
   "cell_type": "code",
   "execution_count": 90,
   "id": "5d0f7637",
   "metadata": {},
   "outputs": [],
   "source": [
    "import numpy as np \n",
    "import pandas as pd\n",
    "import seaborn as sns\n",
    "from tensorflow import keras\n",
    "from sklearn.model_selection import train_test_split\n",
    "from sklearn.metrics import confusion_matrix, accuracy_score\n",
    "\n",
    "from keras.models import Sequential\n",
    "from keras.layers import Dense , Activation , Dropout ,Flatten\n",
    "from keras.layers.convolutional import Conv2D\n",
    "from keras.layers.convolutional import MaxPooling2D\n",
    "from keras.metrics import categorical_accuracy"
   ]
  },
  {
   "cell_type": "code",
   "execution_count": 91,
   "id": "ede731ab",
   "metadata": {},
   "outputs": [
    {
     "data": {
      "text/plain": [
       "(35891, 48, 48, 3)"
      ]
     },
     "execution_count": 91,
     "metadata": {},
     "output_type": "execute_result"
    }
   ],
   "source": [
    "import os,cv2\n",
    "directory='D:/ML/FER2013/All'\n",
    "dir_list=os.listdir(directory)\n",
    "image_data_list=[]\n",
    "labels=[]\n",
    "emotions=[]\n",
    "l=0\n",
    "for data_dir in dir_list:\n",
    "    data_list=os.listdir(directory+'/'+data_dir)\n",
    "    for img in data_list:\n",
    "        input_img=cv2.imread(directory+'/'+data_dir+'/'+img)\n",
    "        input_img=cv2.resize(input_img,(48,48))\n",
    "        image_data_list.append(input_img)\n",
    "        labels.append(l)\n",
    "    emotions.append(data_dir)\n",
    "    l=l+1\n",
    "img_data=np.array(image_data_list)\n",
    "img_data=img_data/255\n",
    "img_data.shape"
   ]
  },
  {
   "cell_type": "code",
   "execution_count": 92,
   "id": "04a259fd",
   "metadata": {},
   "outputs": [
    {
     "name": "stdout",
     "output_type": "stream",
     "text": [
      "No of File with Emotion class0 : 4953\n",
      "No of File with Emotion class1 : 547\n",
      "No of File with Emotion class2 : 5121\n",
      "No of File with Emotion class3 : 8989\n",
      "No of File with Emotion class4 : 6198\n",
      "No of File with Emotion class5 : 6081\n",
      "No of File with Emotion class6 : 4002\n"
     ]
    }
   ],
   "source": [
    "i=1\n",
    "for i in range(7):\n",
    "    print('No of File with Emotion class'+ str(i) + ' : ' + str(labels.count(i)))"
   ]
  },
  {
   "cell_type": "code",
   "execution_count": 93,
   "id": "69ed5904",
   "metadata": {},
   "outputs": [],
   "source": [
    "num_classes=7\n",
    "Y = keras.utils.to_categorical(labels, num_classes)\n",
    "X_train, X_test, y_train, y_test = train_test_split(img_data, Y, test_size=0.2,shuffle= True, random_state=20)"
   ]
  },
  {
   "cell_type": "code",
   "execution_count": 94,
   "id": "04b30513",
   "metadata": {},
   "outputs": [
    {
     "data": {
      "image/png": "[encoded data removed]",
      "text/plain": [
       "<Figure size 432x288 with 1 Axes>"
      ]
     },
     "metadata": {
      "needs_background": "light"
     },
     "output_type": "display_data"
    },
    {
     "data": {
      "image/png": "[encoded data removed]",
      "text/plain": [
       "<Figure size 432x288 with 1 Axes>"
      ]
     },
     "metadata": {
      "needs_background": "light"
     },
     "output_type": "display_data"
    }
   ],
   "source": [
    "import matplotlib.pyplot as plt\n",
    "for i in range(2):\n",
    "    plt.imshow(X_train[i])\n",
    "    plt.show()"
   ]
  },
  {
   "cell_type": "code",
   "execution_count": 95,
   "id": "c69c07be",
   "metadata": {},
   "outputs": [
    {
     "data": {
      "text/plain": [
       "((28712, 48, 48, 3), (7179, 48, 48, 3))"
      ]
     },
     "execution_count": 95,
     "metadata": {},
     "output_type": "execute_result"
    }
   ],
   "source": [
    "X_train.shape, X_test.shape"
   ]
  },
  {
   "cell_type": "code",
   "execution_count": 96,
   "id": "f1b07e45",
   "metadata": {},
   "outputs": [],
   "source": [
    "import tensorflow as tf\n",
    "from tensorflow.keras.layers import  Flatten, Dense, Dropout\n",
    "from tensorflow.keras import Model\n",
    "import matplotlib.pyplot as plt\n",
    "from keras.models import Model,Sequential\n",
    "from keras.preprocessing.image import load_img, img_to_array\n",
    "from keras.preprocessing.image import ImageDataGenerator\n",
    "from keras.layers import Dense,Input,Dropout,GlobalAveragePooling2D,Flatten,Conv2D,BatchNormalization,Activation,MaxPooling2D\n",
    "from keras.models import Model,Sequential"
   ]
  },
  {
   "cell_type": "code",
   "execution_count": 117,
   "id": "832dff90",
   "metadata": {},
   "outputs": [
    {
     "name": "stdout",
     "output_type": "stream",
     "text": [
      "Model: \"sequential_15\"\n",
      "_________________________________________________________________\n",
      "Layer (type)                 Output Shape              Param #   \n",
      "=================================================================\n",
      "conv2d_67 (Conv2D)           (None, 48, 48, 32)        896       \n",
      "_________________________________________________________________\n",
      "conv2d_68 (Conv2D)           (None, 48, 48, 64)        18496     \n",
      "_________________________________________________________________\n",
      "batch_normalization_98 (Batc (None, 48, 48, 64)        256       \n",
      "_________________________________________________________________\n",
      "max_pooling2d_60 (MaxPooling (None, 24, 24, 64)        0         \n",
      "_________________________________________________________________\n",
      "dropout_98 (Dropout)         (None, 24, 24, 64)        0         \n",
      "_________________________________________________________________\n",
      "conv2d_69 (Conv2D)           (None, 24, 24, 128)       204928    \n",
      "_________________________________________________________________\n",
      "batch_normalization_99 (Batc (None, 24, 24, 128)       512       \n",
      "_________________________________________________________________\n",
      "max_pooling2d_61 (MaxPooling (None, 12, 12, 128)       0         \n",
      "_________________________________________________________________\n",
      "dropout_99 (Dropout)         (None, 12, 12, 128)       0         \n",
      "_________________________________________________________________\n",
      "conv2d_70 (Conv2D)           (None, 12, 12, 512)       590336    \n",
      "_________________________________________________________________\n",
      "batch_normalization_100 (Bat (None, 12, 12, 512)       2048      \n",
      "_________________________________________________________________\n",
      "max_pooling2d_62 (MaxPooling (None, 6, 6, 512)         0         \n",
      "_________________________________________________________________\n",
      "dropout_100 (Dropout)        (None, 6, 6, 512)         0         \n",
      "_________________________________________________________________\n",
      "conv2d_71 (Conv2D)           (None, 6, 6, 512)         2359808   \n",
      "_________________________________________________________________\n",
      "batch_normalization_101 (Bat (None, 6, 6, 512)         2048      \n",
      "_________________________________________________________________\n",
      "max_pooling2d_63 (MaxPooling (None, 3, 3, 512)         0         \n",
      "_________________________________________________________________\n",
      "dropout_101 (Dropout)        (None, 3, 3, 512)         0         \n",
      "_________________________________________________________________\n",
      "flatten_15 (Flatten)         (None, 4608)              0         \n",
      "_________________________________________________________________\n",
      "dense_53 (Dense)             (None, 256)               1179904   \n",
      "_________________________________________________________________\n",
      "batch_normalization_102 (Bat (None, 256)               1024      \n",
      "_________________________________________________________________\n",
      "dropout_102 (Dropout)        (None, 256)               0         \n",
      "_________________________________________________________________\n",
      "dense_54 (Dense)             (None, 512)               131584    \n",
      "_________________________________________________________________\n",
      "batch_normalization_103 (Bat (None, 512)               2048      \n",
      "_________________________________________________________________\n",
      "dropout_103 (Dropout)        (None, 512)               0         \n",
      "_________________________________________________________________\n",
      "dense_55 (Dense)             (None, 7)                 3591      \n",
      "=================================================================\n",
      "Total params: 4,497,479\n",
      "Trainable params: 4,493,511\n",
      "Non-trainable params: 3,968\n",
      "_________________________________________________________________\n"
     ]
    }
   ],
   "source": [
    "import tensorflow as tf\n",
    "import keras\n",
    "from keras.layers import Conv2D, MaxPool2D, Flatten,Dense,Dropout,BatchNormalization\n",
    "model= tf.keras.models.Sequential()\n",
    "\n",
    "#1st CNN model\n",
    "model.add(Conv2D(32, kernel_size=(3, 3), padding='same', activation='relu', input_shape=(48, 48,3)))\n",
    "model.add(Conv2D(64,(3,3), padding='same', activation='relu' ))\n",
    "model.add(BatchNormalization())\n",
    "model.add(MaxPool2D(pool_size=(2, 2)))\n",
    "model.add(Dropout(0.25))\n",
    "#2nd CNN model\n",
    "model.add(Conv2D(128,(5,5), padding='same', activation='relu'))\n",
    "model.add(BatchNormalization())\n",
    "model.add(MaxPool2D(pool_size=(2, 2)))\n",
    "model.add(Dropout(0.25))\n",
    "#3rd CNN model    \n",
    "model.add(Conv2D(512,(3,3), padding='same', activation='relu'))\n",
    "model.add(BatchNormalization())\n",
    "model.add(MaxPool2D(pool_size=(2, 2)))\n",
    "model.add(Dropout(0.25))\n",
    "#4th CNN model\n",
    "model.add(Conv2D(512,(3,3), padding='same', activation='relu'))\n",
    "model.add(BatchNormalization())\n",
    "model.add(MaxPool2D(pool_size=(2, 2)))\n",
    "model.add(Dropout(0.25))\n",
    "#1st Fully Connected Layer layer\n",
    "model.add(Flatten()) \n",
    "model.add(Dense(256,activation = 'relu'))\n",
    "model.add(BatchNormalization())\n",
    "model.add(Dropout(0.25))\n",
    "    \n",
    "#2nd Fully Connected Layer layer\n",
    "model.add(Dense(512,activation = 'relu'))\n",
    "model.add(BatchNormalization())\n",
    "model.add(Dropout(0.25))\n",
    "\n",
    "#output Layer\n",
    "model.add(Dense(7, activation='softmax'))\n",
    "model.summary()"
   ]
  },
  {
   "cell_type": "code",
   "execution_count": 118,
   "id": "3ac90219",
   "metadata": {},
   "outputs": [],
   "source": [
    "from tensorflow.keras.optimizers import Adam\n",
    "model.compile(\n",
    "    optimizer = Adam(learning_rate = 0.001,amsgrad=True,decay= 0.01), \n",
    "    loss='categorical_crossentropy', \n",
    "    metrics=['accuracy']\n",
    "  )"
   ]
  },
  {
   "cell_type": "code",
   "execution_count": 104,
   "id": "c469906b",
   "metadata": {
    "scrolled": false
   },
   "outputs": [
    {
     "name": "stdout",
     "output_type": "stream",
     "text": [
      "Epoch 1/150\n",
      "288/288 [==============================] - 144s 500ms/step - loss: 1.8313 - accuracy: 0.2876 - val_loss: 1.8195 - val_accuracy: 0.2941\n",
      "Epoch 2/150\n",
      "288/288 [==============================] - 148s 514ms/step - loss: 1.6947 - accuracy: 0.3425 - val_loss: 1.7097 - val_accuracy: 0.3617\n",
      "Epoch 3/150\n",
      "288/288 [==============================] - 148s 514ms/step - loss: 1.6104 - accuracy: 0.3755 - val_loss: 1.6713 - val_accuracy: 0.3783\n",
      "Epoch 4/150\n",
      "288/288 [==============================] - 148s 514ms/step - loss: 1.5735 - accuracy: 0.3928 - val_loss: 1.5074 - val_accuracy: 0.4090\n",
      "Epoch 5/150\n",
      "288/288 [==============================] - 157s 546ms/step - loss: 1.5242 - accuracy: 0.4118 - val_loss: 1.4770 - val_accuracy: 0.4271\n",
      "Epoch 6/150\n",
      "288/288 [==============================] - 154s 533ms/step - loss: 1.4924 - accuracy: 0.4228 - val_loss: 1.7229 - val_accuracy: 0.3817\n",
      "Epoch 7/150\n",
      "288/288 [==============================] - 154s 534ms/step - loss: 1.4626 - accuracy: 0.4368 - val_loss: 1.5946 - val_accuracy: 0.4129\n",
      "Epoch 8/150\n",
      "288/288 [==============================] - 156s 543ms/step - loss: 1.4392 - accuracy: 0.4447 - val_loss: 1.4211 - val_accuracy: 0.4583\n",
      "Epoch 9/150\n",
      "288/288 [==============================] - 161s 559ms/step - loss: 1.4175 - accuracy: 0.4552 - val_loss: 1.3659 - val_accuracy: 0.4682\n",
      "Epoch 10/150\n",
      "288/288 [==============================] - 158s 550ms/step - loss: 1.3854 - accuracy: 0.4673 - val_loss: 1.4649 - val_accuracy: 0.4478\n",
      "Epoch 11/150\n",
      "288/288 [==============================] - 162s 564ms/step - loss: 1.3719 - accuracy: 0.4757 - val_loss: 1.4506 - val_accuracy: 0.4548\n",
      "Epoch 12/150\n",
      "288/288 [==============================] - 165s 573ms/step - loss: 1.3562 - accuracy: 0.4774 - val_loss: 1.4810 - val_accuracy: 0.4463\n",
      "Epoch 13/150\n",
      "288/288 [==============================] - 163s 565ms/step - loss: 1.3393 - accuracy: 0.4868 - val_loss: 1.3867 - val_accuracy: 0.4743\n",
      "Epoch 14/150\n",
      "288/288 [==============================] - 166s 577ms/step - loss: 1.3181 - accuracy: 0.4968 - val_loss: 1.2955 - val_accuracy: 0.4930\n",
      "Epoch 15/150\n",
      "288/288 [==============================] - 169s 586ms/step - loss: 1.3092 - accuracy: 0.4974 - val_loss: 1.5177 - val_accuracy: 0.4411\n",
      "Epoch 16/150\n",
      "288/288 [==============================] - 171s 594ms/step - loss: 1.2976 - accuracy: 0.5042 - val_loss: 1.3801 - val_accuracy: 0.4740\n",
      "Epoch 17/150\n",
      "288/288 [==============================] - 179s 620ms/step - loss: 1.2857 - accuracy: 0.5074 - val_loss: 1.3419 - val_accuracy: 0.4921\n",
      "Epoch 18/150\n",
      "288/288 [==============================] - 177s 616ms/step - loss: 1.2718 - accuracy: 0.5132 - val_loss: 1.2512 - val_accuracy: 0.5158\n",
      "Epoch 19/150\n",
      "288/288 [==============================] - 162s 562ms/step - loss: 1.2618 - accuracy: 0.5188 - val_loss: 1.2877 - val_accuracy: 0.5038\n",
      "Epoch 20/150\n",
      "288/288 [==============================] - 161s 559ms/step - loss: 1.2542 - accuracy: 0.5216 - val_loss: 1.3812 - val_accuracy: 0.4796\n",
      "Epoch 21/150\n",
      "288/288 [==============================] - 156s 541ms/step - loss: 1.2417 - accuracy: 0.5249 - val_loss: 1.2292 - val_accuracy: 0.5254\n",
      "Epoch 22/150\n",
      "288/288 [==============================] - 168s 584ms/step - loss: 1.2311 - accuracy: 0.5280 - val_loss: 1.2430 - val_accuracy: 0.5240\n",
      "Epoch 23/150\n",
      "288/288 [==============================] - 174s 605ms/step - loss: 1.2313 - accuracy: 0.5297 - val_loss: 1.2154 - val_accuracy: 0.5297\n",
      "Epoch 24/150\n",
      "288/288 [==============================] - 192s 667ms/step - loss: 1.2176 - accuracy: 0.5352 - val_loss: 1.2028 - val_accuracy: 0.5384\n",
      "Epoch 25/150\n",
      "288/288 [==============================] - 164s 569ms/step - loss: 1.1999 - accuracy: 0.5415 - val_loss: 1.1888 - val_accuracy: 0.5407\n",
      "Epoch 26/150\n",
      "288/288 [==============================] - 153s 531ms/step - loss: 1.1954 - accuracy: 0.5457 - val_loss: 1.2777 - val_accuracy: 0.5217\n",
      "Epoch 27/150\n",
      "288/288 [==============================] - 151s 524ms/step - loss: 1.1887 - accuracy: 0.5486 - val_loss: 1.2070 - val_accuracy: 0.5377\n",
      "Epoch 28/150\n",
      "288/288 [==============================] - 146s 507ms/step - loss: 1.1752 - accuracy: 0.5504 - val_loss: 1.3483 - val_accuracy: 0.4999\n",
      "Epoch 29/150\n",
      "288/288 [==============================] - 143s 498ms/step - loss: 1.1698 - accuracy: 0.5536 - val_loss: 1.2247 - val_accuracy: 0.5339\n",
      "Epoch 30/150\n",
      "288/288 [==============================] - 143s 495ms/step - loss: 1.1620 - accuracy: 0.5593 - val_loss: 1.1521 - val_accuracy: 0.5572\n",
      "Epoch 31/150\n",
      "288/288 [==============================] - 140s 485ms/step - loss: 1.1533 - accuracy: 0.5610 - val_loss: 1.1626 - val_accuracy: 0.5563\n",
      "Epoch 32/150\n",
      "288/288 [==============================] - 141s 490ms/step - loss: 1.1491 - accuracy: 0.5640 - val_loss: 1.1616 - val_accuracy: 0.5558\n",
      "Epoch 33/150\n",
      "288/288 [==============================] - 142s 493ms/step - loss: 1.1332 - accuracy: 0.5676 - val_loss: 1.1690 - val_accuracy: 0.5582\n",
      "Epoch 34/150\n",
      "288/288 [==============================] - 150s 522ms/step - loss: 1.1298 - accuracy: 0.5740 - val_loss: 1.2497 - val_accuracy: 0.5349\n",
      "Epoch 35/150\n",
      "288/288 [==============================] - 145s 503ms/step - loss: 1.1248 - accuracy: 0.5716 - val_loss: 1.2984 - val_accuracy: 0.5098\n",
      "Epoch 36/150\n",
      "288/288 [==============================] - 144s 502ms/step - loss: 1.1162 - accuracy: 0.5789 - val_loss: 1.1167 - val_accuracy: 0.5714\n",
      "Epoch 37/150\n",
      "288/288 [==============================] - 146s 506ms/step - loss: 1.1083 - accuracy: 0.5807 - val_loss: 1.1289 - val_accuracy: 0.5690\n",
      "Epoch 38/150\n",
      "288/288 [==============================] - 144s 502ms/step - loss: 1.0976 - accuracy: 0.5828 - val_loss: 1.1530 - val_accuracy: 0.5619\n",
      "Epoch 39/150\n",
      "288/288 [==============================] - 145s 502ms/step - loss: 1.0881 - accuracy: 0.5875 - val_loss: 1.1839 - val_accuracy: 0.5484\n",
      "Epoch 40/150\n",
      "288/288 [==============================] - 135s 470ms/step - loss: 1.0882 - accuracy: 0.5871 - val_loss: 1.1279 - val_accuracy: 0.5786\n",
      "Epoch 41/150\n",
      "288/288 [==============================] - 135s 468ms/step - loss: 1.0827 - accuracy: 0.5904 - val_loss: 1.1800 - val_accuracy: 0.5547\n",
      "Epoch 42/150\n",
      "288/288 [==============================] - 139s 484ms/step - loss: 1.0682 - accuracy: 0.5959 - val_loss: 1.1745 - val_accuracy: 0.5623\n",
      "Epoch 43/150\n",
      "288/288 [==============================] - 139s 484ms/step - loss: 1.0667 - accuracy: 0.5985 - val_loss: 1.1146 - val_accuracy: 0.5764\n",
      "Epoch 44/150\n",
      "288/288 [==============================] - 138s 478ms/step - loss: 1.0573 - accuracy: 0.6010 - val_loss: 1.1604 - val_accuracy: 0.5693\n",
      "Epoch 45/150\n",
      "288/288 [==============================] - 138s 478ms/step - loss: 1.0455 - accuracy: 0.6041 - val_loss: 1.1187 - val_accuracy: 0.5796\n",
      "Epoch 46/150\n",
      "288/288 [==============================] - 142s 494ms/step - loss: 1.0417 - accuracy: 0.6062 - val_loss: 1.1694 - val_accuracy: 0.5629\n",
      "Epoch 47/150\n",
      "288/288 [==============================] - 141s 488ms/step - loss: 1.0378 - accuracy: 0.6066 - val_loss: 1.1091 - val_accuracy: 0.5807\n",
      "Epoch 48/150\n",
      "288/288 [==============================] - 134s 465ms/step - loss: 1.0301 - accuracy: 0.6109 - val_loss: 1.0961 - val_accuracy: 0.5887\n",
      "Epoch 49/150\n",
      "288/288 [==============================] - 133s 462ms/step - loss: 1.0180 - accuracy: 0.6158 - val_loss: 1.1222 - val_accuracy: 0.5841\n",
      "Epoch 50/150\n",
      "288/288 [==============================] - 140s 487ms/step - loss: 1.0131 - accuracy: 0.6180 - val_loss: 1.1051 - val_accuracy: 0.5906\n",
      "Epoch 51/150\n",
      "288/288 [==============================] - 143s 496ms/step - loss: 1.0117 - accuracy: 0.6175 - val_loss: 1.1057 - val_accuracy: 0.5881\n",
      "Epoch 52/150\n",
      "288/288 [==============================] - 143s 497ms/step - loss: 0.9968 - accuracy: 0.6228 - val_loss: 1.1132 - val_accuracy: 0.5821\n",
      "Epoch 53/150\n",
      "288/288 [==============================] - 142s 492ms/step - loss: 0.9992 - accuracy: 0.6225 - val_loss: 1.0859 - val_accuracy: 0.5940\n",
      "Epoch 54/150\n",
      "288/288 [==============================] - 149s 517ms/step - loss: 0.9895 - accuracy: 0.6289 - val_loss: 1.0763 - val_accuracy: 0.5958\n",
      "Epoch 55/150\n",
      "288/288 [==============================] - 151s 526ms/step - loss: 0.9687 - accuracy: 0.6329 - val_loss: 1.1469 - val_accuracy: 0.5793\n",
      "Epoch 56/150\n",
      "288/288 [==============================] - 161s 559ms/step - loss: 0.9744 - accuracy: 0.6343 - val_loss: 1.1565 - val_accuracy: 0.5747\n",
      "Epoch 57/150\n",
      "288/288 [==============================] - 169s 588ms/step - loss: 0.9709 - accuracy: 0.6360 - val_loss: 1.0753 - val_accuracy: 0.5995\n",
      "Epoch 58/150\n",
      "288/288 [==============================] - 171s 594ms/step - loss: 0.9624 - accuracy: 0.6361 - val_loss: 1.0839 - val_accuracy: 0.5965\n",
      "Epoch 59/150\n",
      "288/288 [==============================] - 168s 583ms/step - loss: 0.9510 - accuracy: 0.6436 - val_loss: 1.0747 - val_accuracy: 0.6030\n",
      "Epoch 60/150\n",
      "288/288 [==============================] - 179s 620ms/step - loss: 0.9492 - accuracy: 0.6415 - val_loss: 1.1042 - val_accuracy: 0.5926\n",
      "Epoch 61/150\n",
      "288/288 [==============================] - 186s 647ms/step - loss: 0.9368 - accuracy: 0.6451 - val_loss: 1.0767 - val_accuracy: 0.6047\n",
      "Epoch 62/150\n",
      "288/288 [==============================] - 165s 572ms/step - loss: 0.9332 - accuracy: 0.6474 - val_loss: 1.0684 - val_accuracy: 0.6069\n",
      "Epoch 63/150\n",
      "288/288 [==============================] - 176s 610ms/step - loss: 0.9261 - accuracy: 0.6530 - val_loss: 1.1340 - val_accuracy: 0.5838\n",
      "Epoch 64/150\n",
      "288/288 [==============================] - 181s 629ms/step - loss: 0.9216 - accuracy: 0.6531 - val_loss: 1.0714 - val_accuracy: 0.6029\n",
      "Epoch 65/150\n",
      "288/288 [==============================] - 164s 570ms/step - loss: 0.9116 - accuracy: 0.6581 - val_loss: 1.0883 - val_accuracy: 0.6026\n",
      "Epoch 66/150\n",
      "288/288 [==============================] - 153s 533ms/step - loss: 0.9080 - accuracy: 0.6596 - val_loss: 1.0688 - val_accuracy: 0.6073\n",
      "Epoch 67/150\n",
      "288/288 [==============================] - 149s 516ms/step - loss: 0.8945 - accuracy: 0.6643 - val_loss: 1.0588 - val_accuracy: 0.6103\n",
      "Epoch 68/150\n",
      "288/288 [==============================] - 144s 501ms/step - loss: 0.8925 - accuracy: 0.6677 - val_loss: 1.0936 - val_accuracy: 0.5983\n",
      "Epoch 69/150\n",
      "288/288 [==============================] - 142s 494ms/step - loss: 0.8803 - accuracy: 0.6708 - val_loss: 1.0913 - val_accuracy: 0.6047\n",
      "Epoch 70/150\n",
      "288/288 [==============================] - 152s 529ms/step - loss: 0.8777 - accuracy: 0.6696 - val_loss: 1.0814 - val_accuracy: 0.6045\n",
      "Epoch 71/150\n",
      "288/288 [==============================] - 163s 565ms/step - loss: 0.8718 - accuracy: 0.6729 - val_loss: 1.0533 - val_accuracy: 0.6148\n",
      "Epoch 72/150\n",
      "288/288 [==============================] - 151s 526ms/step - loss: 0.8688 - accuracy: 0.6747 - val_loss: 1.0603 - val_accuracy: 0.6130\n",
      "Epoch 73/150\n",
      "288/288 [==============================] - 151s 524ms/step - loss: 0.8537 - accuracy: 0.6805 - val_loss: 1.0897 - val_accuracy: 0.6031\n",
      "Epoch 74/150\n",
      "288/288 [==============================] - 149s 516ms/step - loss: 0.8515 - accuracy: 0.6793 - val_loss: 1.0961 - val_accuracy: 0.6044\n",
      "Epoch 75/150\n",
      "288/288 [==============================] - 140s 484ms/step - loss: 0.8408 - accuracy: 0.6851 - val_loss: 1.1405 - val_accuracy: 0.5864\n",
      "Epoch 76/150\n",
      "288/288 [==============================] - 143s 497ms/step - loss: 0.8363 - accuracy: 0.6847 - val_loss: 1.1142 - val_accuracy: 0.6058\n",
      "Epoch 77/150\n",
      "288/288 [==============================] - 143s 496ms/step - loss: 0.8337 - accuracy: 0.6898 - val_loss: 1.0718 - val_accuracy: 0.6137\n",
      "Epoch 78/150\n",
      "288/288 [==============================] - 141s 491ms/step - loss: 0.8269 - accuracy: 0.6910 - val_loss: 1.0879 - val_accuracy: 0.6118\n",
      "Epoch 79/150\n",
      "288/288 [==============================] - 141s 491ms/step - loss: 0.8205 - accuracy: 0.6920 - val_loss: 1.1912 - val_accuracy: 0.5686\n",
      "Epoch 80/150\n",
      "288/288 [==============================] - 138s 480ms/step - loss: 0.8075 - accuracy: 0.6957 - val_loss: 1.0756 - val_accuracy: 0.6176\n",
      "Epoch 81/150\n",
      "288/288 [==============================] - 138s 478ms/step - loss: 0.8059 - accuracy: 0.7004 - val_loss: 1.0806 - val_accuracy: 0.6148\n",
      "Epoch 82/150\n",
      "288/288 [==============================] - 141s 490ms/step - loss: 0.7941 - accuracy: 0.7023 - val_loss: 1.0675 - val_accuracy: 0.6200\n",
      "Epoch 83/150\n",
      "288/288 [==============================] - 141s 490ms/step - loss: 0.7934 - accuracy: 0.7013 - val_loss: 1.0621 - val_accuracy: 0.6221\n",
      "Epoch 84/150\n",
      "288/288 [==============================] - 145s 502ms/step - loss: 0.7826 - accuracy: 0.7093 - val_loss: 1.0668 - val_accuracy: 0.6253\n",
      "Epoch 85/150\n",
      "288/288 [==============================] - 145s 502ms/step - loss: 0.7768 - accuracy: 0.7096 - val_loss: 1.0696 - val_accuracy: 0.6186\n",
      "Epoch 86/150\n",
      "288/288 [==============================] - 149s 516ms/step - loss: 0.7703 - accuracy: 0.7133 - val_loss: 1.0819 - val_accuracy: 0.6167\n",
      "Epoch 87/150\n",
      "288/288 [==============================] - 155s 538ms/step - loss: 0.7576 - accuracy: 0.7182 - val_loss: 1.0872 - val_accuracy: 0.6218\n",
      "Epoch 88/150\n",
      "288/288 [==============================] - 151s 525ms/step - loss: 0.7582 - accuracy: 0.7175 - val_loss: 1.0921 - val_accuracy: 0.6155\n",
      "Epoch 89/150\n",
      "288/288 [==============================] - 146s 507ms/step - loss: 0.7371 - accuracy: 0.7242 - val_loss: 1.0903 - val_accuracy: 0.6211\n",
      "Epoch 90/150\n",
      "288/288 [==============================] - 144s 501ms/step - loss: 0.7366 - accuracy: 0.7245 - val_loss: 1.0853 - val_accuracy: 0.6239\n",
      "Epoch 91/150\n",
      "288/288 [==============================] - 144s 499ms/step - loss: 0.7430 - accuracy: 0.7244 - val_loss: 1.0883 - val_accuracy: 0.6193\n",
      "Epoch 92/150\n",
      "288/288 [==============================] - 154s 534ms/step - loss: 0.7265 - accuracy: 0.7279 - val_loss: 1.0745 - val_accuracy: 0.6194\n",
      "Epoch 93/150\n",
      "288/288 [==============================] - 147s 511ms/step - loss: 0.7216 - accuracy: 0.7328 - val_loss: 1.0788 - val_accuracy: 0.6253\n",
      "Epoch 94/150\n",
      "288/288 [==============================] - 144s 499ms/step - loss: 0.7172 - accuracy: 0.7322 - val_loss: 1.1883 - val_accuracy: 0.5814\n",
      "Epoch 95/150\n",
      "288/288 [==============================] - 146s 508ms/step - loss: 0.7162 - accuracy: 0.7327 - val_loss: 1.0953 - val_accuracy: 0.6185\n",
      "Epoch 96/150\n",
      "288/288 [==============================] - 146s 505ms/step - loss: 0.6971 - accuracy: 0.7408 - val_loss: 1.1013 - val_accuracy: 0.6203\n",
      "Epoch 97/150\n",
      "288/288 [==============================] - 147s 510ms/step - loss: 0.6932 - accuracy: 0.7409 - val_loss: 1.4147 - val_accuracy: 0.5231\n",
      "Epoch 98/150\n",
      "288/288 [==============================] - 146s 507ms/step - loss: 0.6879 - accuracy: 0.7423 - val_loss: 1.1244 - val_accuracy: 0.6051\n",
      "Epoch 99/150\n",
      "288/288 [==============================] - 144s 500ms/step - loss: 0.6841 - accuracy: 0.7455 - val_loss: 1.1637 - val_accuracy: 0.5949\n",
      "Epoch 100/150\n",
      "288/288 [==============================] - 145s 503ms/step - loss: 0.6835 - accuracy: 0.7462 - val_loss: 1.1395 - val_accuracy: 0.6051\n",
      "Epoch 101/150\n",
      "288/288 [==============================] - 147s 512ms/step - loss: 0.6661 - accuracy: 0.7525 - val_loss: 1.0987 - val_accuracy: 0.6256\n",
      "Epoch 102/150\n",
      "288/288 [==============================] - 151s 525ms/step - loss: 0.6640 - accuracy: 0.7539 - val_loss: 1.1134 - val_accuracy: 0.6296\n",
      "Epoch 103/150\n",
      "288/288 [==============================] - 151s 523ms/step - loss: 0.6554 - accuracy: 0.7558 - val_loss: 1.1144 - val_accuracy: 0.6217\n",
      "Epoch 104/150\n",
      "288/288 [==============================] - 150s 519ms/step - loss: 0.6516 - accuracy: 0.7588 - val_loss: 1.1031 - val_accuracy: 0.6270\n",
      "Epoch 105/150\n",
      "288/288 [==============================] - 146s 506ms/step - loss: 0.6362 - accuracy: 0.7628 - val_loss: 1.1189 - val_accuracy: 0.6286\n",
      "Epoch 106/150\n",
      "288/288 [==============================] - 145s 504ms/step - loss: 0.6381 - accuracy: 0.7624 - val_loss: 1.1206 - val_accuracy: 0.6243\n",
      "Epoch 107/150\n",
      "288/288 [==============================] - 145s 504ms/step - loss: 0.6279 - accuracy: 0.7673 - val_loss: 1.1354 - val_accuracy: 0.6247\n",
      "Epoch 108/150\n",
      "288/288 [==============================] - 143s 497ms/step - loss: 0.6182 - accuracy: 0.7712 - val_loss: 1.1676 - val_accuracy: 0.6139\n",
      "Epoch 109/150\n",
      "288/288 [==============================] - 145s 503ms/step - loss: 0.6179 - accuracy: 0.7722 - val_loss: 1.1330 - val_accuracy: 0.6229\n",
      "Epoch 110/150\n",
      "288/288 [==============================] - 142s 493ms/step - loss: 0.6054 - accuracy: 0.7758 - val_loss: 1.1255 - val_accuracy: 0.6250\n",
      "Epoch 111/150\n",
      "288/288 [==============================] - 140s 486ms/step - loss: 0.6053 - accuracy: 0.7779 - val_loss: 1.1244 - val_accuracy: 0.6272\n",
      "Epoch 112/150\n",
      "288/288 [==============================] - 142s 492ms/step - loss: 0.5998 - accuracy: 0.7796 - val_loss: 1.1253 - val_accuracy: 0.6282\n",
      "Epoch 113/150\n",
      "288/288 [==============================] - 141s 491ms/step - loss: 0.5860 - accuracy: 0.7821 - val_loss: 1.1492 - val_accuracy: 0.6240\n",
      "Epoch 114/150\n",
      "288/288 [==============================] - 142s 492ms/step - loss: 0.5794 - accuracy: 0.7854 - val_loss: 1.1867 - val_accuracy: 0.6183\n",
      "Epoch 115/150\n",
      "288/288 [==============================] - 140s 487ms/step - loss: 0.5904 - accuracy: 0.7799 - val_loss: 1.1513 - val_accuracy: 0.6243\n",
      "Epoch 116/150\n",
      "288/288 [==============================] - 140s 487ms/step - loss: 0.5751 - accuracy: 0.7876 - val_loss: 1.1545 - val_accuracy: 0.6242\n",
      "Epoch 117/150\n",
      "288/288 [==============================] - 141s 491ms/step - loss: 0.5699 - accuracy: 0.7903 - val_loss: 1.1462 - val_accuracy: 0.6257\n",
      "Epoch 118/150\n",
      "288/288 [==============================] - 145s 505ms/step - loss: 0.5634 - accuracy: 0.7918 - val_loss: 1.1782 - val_accuracy: 0.6215\n",
      "Epoch 119/150\n",
      "288/288 [==============================] - 147s 512ms/step - loss: 0.5575 - accuracy: 0.7918 - val_loss: 1.1503 - val_accuracy: 0.6328\n",
      "Epoch 120/150\n",
      "288/288 [==============================] - 147s 510ms/step - loss: 0.5564 - accuracy: 0.7938 - val_loss: 1.1756 - val_accuracy: 0.6175\n",
      "Epoch 121/150\n",
      "288/288 [==============================] - 145s 504ms/step - loss: 0.5460 - accuracy: 0.7982 - val_loss: 1.1630 - val_accuracy: 0.6272\n",
      "Epoch 122/150\n",
      "288/288 [==============================] - 144s 501ms/step - loss: 0.5394 - accuracy: 0.7982 - val_loss: 1.1769 - val_accuracy: 0.6226\n",
      "Epoch 123/150\n",
      "288/288 [==============================] - 144s 500ms/step - loss: 0.5388 - accuracy: 0.7994 - val_loss: 1.1914 - val_accuracy: 0.6196\n",
      "Epoch 124/150\n",
      "288/288 [==============================] - 145s 503ms/step - loss: 0.5245 - accuracy: 0.8073 - val_loss: 1.1678 - val_accuracy: 0.6206\n",
      "Epoch 125/150\n",
      "288/288 [==============================] - 145s 505ms/step - loss: 0.5215 - accuracy: 0.8057 - val_loss: 1.1741 - val_accuracy: 0.6206\n",
      "Epoch 126/150\n",
      "288/288 [==============================] - 149s 516ms/step - loss: 0.5156 - accuracy: 0.8104 - val_loss: 1.2102 - val_accuracy: 0.6293\n",
      "Epoch 127/150\n",
      "288/288 [==============================] - 153s 530ms/step - loss: 0.5093 - accuracy: 0.8111 - val_loss: 1.1969 - val_accuracy: 0.6235\n",
      "Epoch 128/150\n",
      "288/288 [==============================] - 156s 541ms/step - loss: 0.4973 - accuracy: 0.8183 - val_loss: 1.2471 - val_accuracy: 0.6165\n",
      "Epoch 129/150\n",
      "288/288 [==============================] - 189s 656ms/step - loss: 0.5011 - accuracy: 0.8171 - val_loss: 1.2074 - val_accuracy: 0.6252\n",
      "Epoch 130/150\n",
      "288/288 [==============================] - 192s 666ms/step - loss: 0.4967 - accuracy: 0.8158 - val_loss: 1.2381 - val_accuracy: 0.6090\n",
      "Epoch 131/150\n",
      "288/288 [==============================] - 187s 649ms/step - loss: 0.5003 - accuracy: 0.8157 - val_loss: 1.2043 - val_accuracy: 0.6270\n",
      "Epoch 132/150\n",
      "288/288 [==============================] - 183s 637ms/step - loss: 0.4823 - accuracy: 0.8246 - val_loss: 1.2504 - val_accuracy: 0.6150\n",
      "Epoch 133/150\n",
      "288/288 [==============================] - 182s 633ms/step - loss: 0.4796 - accuracy: 0.8255 - val_loss: 1.2023 - val_accuracy: 0.6293\n",
      "Epoch 134/150\n",
      "288/288 [==============================] - 181s 628ms/step - loss: 0.4709 - accuracy: 0.8259 - val_loss: 1.2147 - val_accuracy: 0.6300\n",
      "Epoch 135/150\n",
      "288/288 [==============================] - 182s 632ms/step - loss: 0.4626 - accuracy: 0.8315 - val_loss: 1.2277 - val_accuracy: 0.6199\n",
      "Epoch 136/150\n",
      "288/288 [==============================] - 182s 631ms/step - loss: 0.4701 - accuracy: 0.8262 - val_loss: 1.2338 - val_accuracy: 0.6353\n",
      "Epoch 137/150\n",
      "288/288 [==============================] - 183s 634ms/step - loss: 0.4622 - accuracy: 0.8309 - val_loss: 1.2300 - val_accuracy: 0.6254\n",
      "Epoch 138/150\n",
      "288/288 [==============================] - 184s 640ms/step - loss: 0.4574 - accuracy: 0.8310 - val_loss: 1.2392 - val_accuracy: 0.6281\n",
      "Epoch 139/150\n",
      "288/288 [==============================] - 185s 641ms/step - loss: 0.4364 - accuracy: 0.8400 - val_loss: 1.2329 - val_accuracy: 0.6252\n",
      "Epoch 140/150\n",
      "288/288 [==============================] - 182s 631ms/step - loss: 0.4405 - accuracy: 0.8374 - val_loss: 1.3066 - val_accuracy: 0.6142\n",
      "Epoch 141/150\n",
      "288/288 [==============================] - 179s 621ms/step - loss: 0.4365 - accuracy: 0.8400 - val_loss: 1.2492 - val_accuracy: 0.6300\n",
      "Epoch 142/150\n",
      "288/288 [==============================] - 180s 625ms/step - loss: 0.4285 - accuracy: 0.8429 - val_loss: 1.3004 - val_accuracy: 0.6187\n",
      "Epoch 143/150\n",
      "288/288 [==============================] - 177s 616ms/step - loss: 0.4240 - accuracy: 0.8448 - val_loss: 1.2627 - val_accuracy: 0.6213\n",
      "Epoch 144/150\n",
      "288/288 [==============================] - 173s 600ms/step - loss: 0.4217 - accuracy: 0.8441 - val_loss: 1.2690 - val_accuracy: 0.6331\n",
      "Epoch 145/150\n",
      "288/288 [==============================] - 145s 505ms/step - loss: 0.4154 - accuracy: 0.8494 - val_loss: 1.2554 - val_accuracy: 0.6306\n",
      "Epoch 146/150\n",
      "288/288 [==============================] - 148s 515ms/step - loss: 0.4104 - accuracy: 0.8499 - val_loss: 1.2517 - val_accuracy: 0.6310\n",
      "Epoch 147/150\n",
      "288/288 [==============================] - 159s 551ms/step - loss: 0.4089 - accuracy: 0.8526 - val_loss: 1.2898 - val_accuracy: 0.6263\n",
      "Epoch 148/150\n",
      "288/288 [==============================] - 163s 567ms/step - loss: 0.4042 - accuracy: 0.8498 - val_loss: 1.2907 - val_accuracy: 0.6272\n",
      "Epoch 149/150\n",
      "288/288 [==============================] - 159s 553ms/step - loss: 0.3961 - accuracy: 0.8564 - val_loss: 1.3093 - val_accuracy: 0.6320\n",
      "Epoch 150/150\n",
      "288/288 [==============================] - 162s 563ms/step - loss: 0.3985 - accuracy: 0.8543 - val_loss: 1.2783 - val_accuracy: 0.6239\n"
     ]
    }
   ],
   "source": [
    "history=model.fit(X_train,y_train,epochs=150, batch_size= 100, validation_data=(X_test,y_test))"
   ]
  },
  {
   "cell_type": "code",
   "execution_count": 105,
   "id": "81adadca",
   "metadata": {},
   "outputs": [],
   "source": [
    "import os\n",
    "import cv2\n",
    "import math\n",
    "import numpy as np\n",
    "import pandas as pd\n",
    "\n",
    "\n",
    "from scikitplot.estimators import plot_feature_importances\n",
    "from scikitplot.metrics import plot_confusion_matrix, plot_roc\n",
    "\n",
    "import scikitplot\n",
    "import seaborn as sns\n",
    "from matplotlib import pyplot\n",
    "\n",
    "from sklearn.model_selection import train_test_split\n",
    "from sklearn.metrics import classification_report\n",
    "\n",
    "import tensorflow as tf\n",
    "from tensorflow.keras import optimizers\n",
    "from tensorflow.keras.models import Model\n",
    "from tensorflow.keras.layers import Flatten, Dense, GlobalAvgPool2D, GlobalMaxPool2D\n",
    "from tensorflow.keras.callbacks import Callback, EarlyStopping, ReduceLROnPlateau\n",
    "from tensorflow.keras.preprocessing.image import ImageDataGenerator\n",
    "from tensorflow.keras.applications.mobilenet import MobileNet\n",
    "from tensorflow.keras.utils import plot_model\n",
    "\n",
    "from keras.utils import np_utils"
   ]
  },
  {
   "cell_type": "code",
   "execution_count": 115,
   "id": "bcbd6fc5",
   "metadata": {
    "scrolled": false
   },
   "outputs": [],
   "source": [
    "yhat_test = np.argmax(model.predict(X_train), axis=1)\n",
    "ytest_ = np.argmax(y_train, axis=1)"
   ]
  },
  {
   "cell_type": "code",
   "execution_count": 114,
   "id": "b97b2e38",
   "metadata": {},
   "outputs": [
    {
     "name": "stdout",
     "output_type": "stream",
     "text": [
      "training accuracy: 98.228 %\n",
      "\n",
      "\n",
      "              precision    recall  f1-score   support\n",
      "\n",
      "           0       0.98      0.98      0.98      3151\n",
      "           1       0.99      1.00      0.99       348\n",
      "           2       0.97      0.97      0.97      3294\n",
      "           3       0.99      0.99      0.99      5773\n",
      "           4       0.97      0.98      0.98      3956\n",
      "           5       0.98      0.97      0.98      3876\n",
      "           6       0.98      0.99      0.99      2571\n",
      "\n",
      "    accuracy                           0.98     22969\n",
      "   macro avg       0.98      0.98      0.98     22969\n",
      "weighted avg       0.98      0.98      0.98     22969\n",
      "\n"
     ]
    },
    {
     "data": {
      "image/png": "[encoded data removed]",
      "text/plain": [
       "<Figure size 432x432 with 2 Axes>"
      ]
     },
     "metadata": {
      "needs_background": "light"
     },
     "output_type": "display_data"
    }
   ],
   "source": [
    "scikitplot.metrics.plot_confusion_matrix(ytest_, yhat_test, figsize=(6,6))\n",
    "pyplot.savefig(\"confusion_matrix_mobilenet.png\")\n",
    "\n",
    "test_accu = np.sum(ytest_ == yhat_test) / len(ytest_) * 100\n",
    "print(f\"training accuracy: {round(test_accu, 4)} %\\n\\n\")\n",
    "\n",
    "print(classification_report(ytest_, yhat_test))"
   ]
  },
  {
   "cell_type": "code",
   "execution_count": 111,
   "id": "37dd5ca2",
   "metadata": {},
   "outputs": [
    {
     "name": "stdout",
     "output_type": "stream",
     "text": [
      "Confusion Matrix for the Test Case\n",
      "[[3862    2   32    2   21   16    3]\n",
      " [   0  429    0    0    1    0    1]\n",
      " [  19    1 3982    2   36   29   27]\n",
      " [   4    0    2 7142    7    2   22]\n",
      " [  16    0   13   43 4867   29    1]\n",
      " [  26    0   47    4   71 4714    1]\n",
      " [   2    1   16    4    4    0 3209]]\n",
      "\n",
      "Classification Report\n",
      "              precision    recall  f1-score   support\n",
      "\n",
      "           0      0.983     0.981     0.982      3938\n",
      "           1      0.991     0.995     0.993       431\n",
      "           2      0.973     0.972     0.973      4096\n",
      "           3      0.992     0.995     0.994      7179\n",
      "           4      0.972     0.979     0.976      4969\n",
      "           5      0.984     0.969     0.977      4863\n",
      "           6      0.983     0.992     0.987      3236\n",
      "\n",
      "    accuracy                          0.982     28712\n",
      "   macro avg      0.983     0.983     0.983     28712\n",
      "weighted avg      0.982     0.982     0.982     28712\n",
      "\n"
     ]
    }
   ],
   "source": [
    "from sklearn import metrics\n",
    "print(\"Confusion Matrix for the Test Case\")\n",
    "print(metrics.confusion_matrix(ytest_, yhat_test))\n",
    "print()\n",
    "print(\"Classification Report\")\n",
    "print(metrics.classification_report(ytest_, yhat_test, digits = 3))"
   ]
  },
  {
   "cell_type": "code",
   "execution_count": 55,
   "id": "a3d9bf23",
   "metadata": {},
   "outputs": [],
   "source": [
    "def plot_confusion_matrix(ytest_, yhat_test, classes,\n",
    "                          normalize=False,\n",
    "                          title=None,\n",
    "                          cmap=plt.cm.Blues):\n",
    "    \"\"\"\n",
    "    This function prints and plots the confusion matrix.\n",
    "    Normalization can be applied by setting `normalize=True`.\n",
    "    \"\"\"\n",
    "    if not title:\n",
    "        if normalize:\n",
    "            title = 'Normalized confusion matrix'\n",
    "        else:\n",
    "            title = 'Confusion matrix, without normalization'\n",
    "\n",
    "    # Compute confusion matrix\n",
    "    cm = confusion_matrix(ytest_, yhat_test)\n",
    "    # Only use the labels that appear in the data\n",
    "    classes = classes\n",
    "    if normalize:\n",
    "        cm = cm.astype('float') / cm.sum(axis=1)[:, np.newaxis]\n",
    "        #print(\"Normalized confusion matrix\")\n",
    "    #else:\n",
    "        #print('Confusion matrix, without normalization')\n",
    "\n",
    "    #print(cm)\n",
    "\n",
    "    fig, ax = plt.subplots(figsize=(12,6))\n",
    "    im = ax.imshow(cm, interpolation='nearest', cmap=cmap)\n",
    "    ax.figure.colorbar(im, ax=ax)\n",
    "    # We want to show all ticks...\n",
    "    ax.set(xticks=np.arange(cm.shape[1]),\n",
    "           yticks=np.arange(cm.shape[0]),\n",
    "           # ... and label them with the respective list entries\n",
    "           xticklabels=classes, yticklabels=classes,\n",
    "           title=title,\n",
    "           ylabel='True label',\n",
    "           xlabel='Predicted label')\n",
    "\n",
    "    # Rotate the tick labels and set their alignment.\n",
    "    plt.setp(ax.get_xticklabels(), rotation=45, ha=\"right\",\n",
    "             rotation_mode=\"anchor\")\n",
    "\n",
    "    # Loop over data dimensions and create text annotations.\n",
    "    fmt = '.2f' if normalize else 'd'\n",
    "    thresh = cm.max() / 2.\n",
    "    for i in range(cm.shape[0]):\n",
    "        for j in range(cm.shape[1]):\n",
    "            ax.text(j, i, format(cm[i, j], fmt),\n",
    "                    ha=\"center\", va=\"center\",\n",
    "                    color=\"white\" if cm[i, j] > thresh else \"black\")\n",
    "    fig.tight_layout()\n",
    "    return ax"
   ]
  },
  {
   "cell_type": "code",
   "execution_count": 69,
   "id": "ee07326e",
   "metadata": {},
   "outputs": [],
   "source": [
    "emotion_labels = ['0:Angry’, ‘1:Disgust’, ‘2:Fear', '3:Happy', '4:Sad', '5:Surprise' '6:Neutral']"
   ]
  },
  {
   "cell_type": "code",
   "execution_count": 72,
   "id": "ab72529e",
   "metadata": {
    "scrolled": false
   },
   "outputs": [
    {
     "ename": "ValueError",
     "evalue": "The number of FixedLocator locations (7), usually from a call to set_ticks, does not match the number of ticklabels (4).",
     "output_type": "error",
     "traceback": [
      "\u001b[1;31m---------------------------------------------------------------------------\u001b[0m",
      "\u001b[1;31mValueError\u001b[0m                                Traceback (most recent call last)",
      "\u001b[1;32m<ipython-input-72-733f8327feee>\u001b[0m in \u001b[0;36m<module>\u001b[1;34m\u001b[0m\n\u001b[1;32m----> 1\u001b[1;33m \u001b[0mplot_confusion_matrix\u001b[0m\u001b[1;33m(\u001b[0m\u001b[0mytest_\u001b[0m\u001b[1;33m,\u001b[0m\u001b[0myhat_test\u001b[0m\u001b[1;33m,\u001b[0m \u001b[0mclasses\u001b[0m\u001b[1;33m=\u001b[0m\u001b[0memotion_labels\u001b[0m\u001b[1;33m,\u001b[0m \u001b[0mnormalize\u001b[0m\u001b[1;33m=\u001b[0m\u001b[1;32mTrue\u001b[0m\u001b[1;33m,\u001b[0m \u001b[0mtitle\u001b[0m\u001b[1;33m=\u001b[0m\u001b[1;34m'Normalized confusion matrix'\u001b[0m \u001b[1;33m)\u001b[0m\u001b[1;33m\u001b[0m\u001b[1;33m\u001b[0m\u001b[0m\n\u001b[0m\u001b[0;32m      2\u001b[0m \u001b[0mplt\u001b[0m\u001b[1;33m.\u001b[0m\u001b[0mshow\u001b[0m\u001b[1;33m(\u001b[0m\u001b[1;33m)\u001b[0m\u001b[1;33m\u001b[0m\u001b[1;33m\u001b[0m\u001b[0m\n",
      "\u001b[1;32m<ipython-input-55-34517f817682>\u001b[0m in \u001b[0;36mplot_confusion_matrix\u001b[1;34m(ytest_, yhat_test, classes, normalize, title, cmap)\u001b[0m\n\u001b[0;32m     29\u001b[0m     \u001b[0max\u001b[0m\u001b[1;33m.\u001b[0m\u001b[0mfigure\u001b[0m\u001b[1;33m.\u001b[0m\u001b[0mcolorbar\u001b[0m\u001b[1;33m(\u001b[0m\u001b[0mim\u001b[0m\u001b[1;33m,\u001b[0m \u001b[0max\u001b[0m\u001b[1;33m=\u001b[0m\u001b[0max\u001b[0m\u001b[1;33m)\u001b[0m\u001b[1;33m\u001b[0m\u001b[1;33m\u001b[0m\u001b[0m\n\u001b[0;32m     30\u001b[0m     \u001b[1;31m# We want to show all ticks...\u001b[0m\u001b[1;33m\u001b[0m\u001b[1;33m\u001b[0m\u001b[1;33m\u001b[0m\u001b[0m\n\u001b[1;32m---> 31\u001b[1;33m     ax.set(xticks=np.arange(cm.shape[1]),\n\u001b[0m\u001b[0;32m     32\u001b[0m            \u001b[0myticks\u001b[0m\u001b[1;33m=\u001b[0m\u001b[0mnp\u001b[0m\u001b[1;33m.\u001b[0m\u001b[0marange\u001b[0m\u001b[1;33m(\u001b[0m\u001b[0mcm\u001b[0m\u001b[1;33m.\u001b[0m\u001b[0mshape\u001b[0m\u001b[1;33m[\u001b[0m\u001b[1;36m0\u001b[0m\u001b[1;33m]\u001b[0m\u001b[1;33m)\u001b[0m\u001b[1;33m,\u001b[0m\u001b[1;33m\u001b[0m\u001b[1;33m\u001b[0m\u001b[0m\n\u001b[0;32m     33\u001b[0m            \u001b[1;31m# ... and label them with the respective list entries\u001b[0m\u001b[1;33m\u001b[0m\u001b[1;33m\u001b[0m\u001b[1;33m\u001b[0m\u001b[0m\n",
      "\u001b[1;32mC:\\ProgramData\\Anaconda3\\lib\\site-packages\\matplotlib\\artist.py\u001b[0m in \u001b[0;36mset\u001b[1;34m(self, **kwargs)\u001b[0m\n\u001b[0;32m   1111\u001b[0m         \u001b[1;32mif\u001b[0m \u001b[0mmove_color_to_start\u001b[0m\u001b[1;33m:\u001b[0m\u001b[1;33m\u001b[0m\u001b[1;33m\u001b[0m\u001b[0m\n\u001b[0;32m   1112\u001b[0m             \u001b[0mkwargs\u001b[0m \u001b[1;33m=\u001b[0m \u001b[1;33m{\u001b[0m\u001b[1;34m\"color\"\u001b[0m\u001b[1;33m:\u001b[0m \u001b[0mkwargs\u001b[0m\u001b[1;33m.\u001b[0m\u001b[0mpop\u001b[0m\u001b[1;33m(\u001b[0m\u001b[1;34m\"color\"\u001b[0m\u001b[1;33m)\u001b[0m\u001b[1;33m,\u001b[0m \u001b[1;33m**\u001b[0m\u001b[0mkwargs\u001b[0m\u001b[1;33m}\u001b[0m\u001b[1;33m\u001b[0m\u001b[1;33m\u001b[0m\u001b[0m\n\u001b[1;32m-> 1113\u001b[1;33m         \u001b[1;32mreturn\u001b[0m \u001b[0mself\u001b[0m\u001b[1;33m.\u001b[0m\u001b[0mupdate\u001b[0m\u001b[1;33m(\u001b[0m\u001b[0mkwargs\u001b[0m\u001b[1;33m)\u001b[0m\u001b[1;33m\u001b[0m\u001b[1;33m\u001b[0m\u001b[0m\n\u001b[0m\u001b[0;32m   1114\u001b[0m \u001b[1;33m\u001b[0m\u001b[0m\n\u001b[0;32m   1115\u001b[0m     \u001b[1;32mdef\u001b[0m \u001b[0mfindobj\u001b[0m\u001b[1;33m(\u001b[0m\u001b[0mself\u001b[0m\u001b[1;33m,\u001b[0m \u001b[0mmatch\u001b[0m\u001b[1;33m=\u001b[0m\u001b[1;32mNone\u001b[0m\u001b[1;33m,\u001b[0m \u001b[0minclude_self\u001b[0m\u001b[1;33m=\u001b[0m\u001b[1;32mTrue\u001b[0m\u001b[1;33m)\u001b[0m\u001b[1;33m:\u001b[0m\u001b[1;33m\u001b[0m\u001b[1;33m\u001b[0m\u001b[0m\n",
      "\u001b[1;32mC:\\ProgramData\\Anaconda3\\lib\\site-packages\\matplotlib\\artist.py\u001b[0m in \u001b[0;36mupdate\u001b[1;34m(self, props)\u001b[0m\n\u001b[0;32m    996\u001b[0m                         raise AttributeError(f\"{type(self).__name__!r} object \"\n\u001b[0;32m    997\u001b[0m                                              f\"has no property {k!r}\")\n\u001b[1;32m--> 998\u001b[1;33m                     \u001b[0mret\u001b[0m\u001b[1;33m.\u001b[0m\u001b[0mappend\u001b[0m\u001b[1;33m(\u001b[0m\u001b[0mfunc\u001b[0m\u001b[1;33m(\u001b[0m\u001b[0mv\u001b[0m\u001b[1;33m)\u001b[0m\u001b[1;33m)\u001b[0m\u001b[1;33m\u001b[0m\u001b[1;33m\u001b[0m\u001b[0m\n\u001b[0m\u001b[0;32m    999\u001b[0m         \u001b[1;32mif\u001b[0m \u001b[0mret\u001b[0m\u001b[1;33m:\u001b[0m\u001b[1;33m\u001b[0m\u001b[1;33m\u001b[0m\u001b[0m\n\u001b[0;32m   1000\u001b[0m             \u001b[0mself\u001b[0m\u001b[1;33m.\u001b[0m\u001b[0mpchanged\u001b[0m\u001b[1;33m(\u001b[0m\u001b[1;33m)\u001b[0m\u001b[1;33m\u001b[0m\u001b[1;33m\u001b[0m\u001b[0m\n",
      "\u001b[1;32mC:\\ProgramData\\Anaconda3\\lib\\site-packages\\matplotlib\\axes\\_base.py\u001b[0m in \u001b[0;36mwrapper\u001b[1;34m(self, *args, **kwargs)\u001b[0m\n\u001b[0;32m     61\u001b[0m \u001b[1;33m\u001b[0m\u001b[0m\n\u001b[0;32m     62\u001b[0m         \u001b[1;32mdef\u001b[0m \u001b[0mwrapper\u001b[0m\u001b[1;33m(\u001b[0m\u001b[0mself\u001b[0m\u001b[1;33m,\u001b[0m \u001b[1;33m*\u001b[0m\u001b[0margs\u001b[0m\u001b[1;33m,\u001b[0m \u001b[1;33m**\u001b[0m\u001b[0mkwargs\u001b[0m\u001b[1;33m)\u001b[0m\u001b[1;33m:\u001b[0m\u001b[1;33m\u001b[0m\u001b[1;33m\u001b[0m\u001b[0m\n\u001b[1;32m---> 63\u001b[1;33m             \u001b[1;32mreturn\u001b[0m \u001b[0mget_method\u001b[0m\u001b[1;33m(\u001b[0m\u001b[0mself\u001b[0m\u001b[1;33m)\u001b[0m\u001b[1;33m(\u001b[0m\u001b[1;33m*\u001b[0m\u001b[0margs\u001b[0m\u001b[1;33m,\u001b[0m \u001b[1;33m**\u001b[0m\u001b[0mkwargs\u001b[0m\u001b[1;33m)\u001b[0m\u001b[1;33m\u001b[0m\u001b[1;33m\u001b[0m\u001b[0m\n\u001b[0m\u001b[0;32m     64\u001b[0m \u001b[1;33m\u001b[0m\u001b[0m\n\u001b[0;32m     65\u001b[0m         \u001b[0mwrapper\u001b[0m\u001b[1;33m.\u001b[0m\u001b[0m__module__\u001b[0m \u001b[1;33m=\u001b[0m \u001b[0mowner\u001b[0m\u001b[1;33m.\u001b[0m\u001b[0m__module__\u001b[0m\u001b[1;33m\u001b[0m\u001b[1;33m\u001b[0m\u001b[0m\n",
      "\u001b[1;32mC:\\ProgramData\\Anaconda3\\lib\\site-packages\\matplotlib\\cbook\\deprecation.py\u001b[0m in \u001b[0;36mwrapper\u001b[1;34m(*args, **kwargs)\u001b[0m\n\u001b[0;32m    449\u001b[0m                 \u001b[1;34m\"parameter will become keyword-only %(removal)s.\"\u001b[0m\u001b[1;33m,\u001b[0m\u001b[1;33m\u001b[0m\u001b[1;33m\u001b[0m\u001b[0m\n\u001b[0;32m    450\u001b[0m                 name=name, obj_type=f\"parameter of {func.__name__}()\")\n\u001b[1;32m--> 451\u001b[1;33m         \u001b[1;32mreturn\u001b[0m \u001b[0mfunc\u001b[0m\u001b[1;33m(\u001b[0m\u001b[1;33m*\u001b[0m\u001b[0margs\u001b[0m\u001b[1;33m,\u001b[0m \u001b[1;33m**\u001b[0m\u001b[0mkwargs\u001b[0m\u001b[1;33m)\u001b[0m\u001b[1;33m\u001b[0m\u001b[1;33m\u001b[0m\u001b[0m\n\u001b[0m\u001b[0;32m    452\u001b[0m \u001b[1;33m\u001b[0m\u001b[0m\n\u001b[0;32m    453\u001b[0m     \u001b[1;32mreturn\u001b[0m \u001b[0mwrapper\u001b[0m\u001b[1;33m\u001b[0m\u001b[1;33m\u001b[0m\u001b[0m\n",
      "\u001b[1;32mC:\\ProgramData\\Anaconda3\\lib\\site-packages\\matplotlib\\axis.py\u001b[0m in \u001b[0;36m_set_ticklabels\u001b[1;34m(self, labels, fontdict, minor, **kwargs)\u001b[0m\n\u001b[0;32m   1794\u001b[0m         \u001b[1;32mif\u001b[0m \u001b[0mfontdict\u001b[0m \u001b[1;32mis\u001b[0m \u001b[1;32mnot\u001b[0m \u001b[1;32mNone\u001b[0m\u001b[1;33m:\u001b[0m\u001b[1;33m\u001b[0m\u001b[1;33m\u001b[0m\u001b[0m\n\u001b[0;32m   1795\u001b[0m             \u001b[0mkwargs\u001b[0m\u001b[1;33m.\u001b[0m\u001b[0mupdate\u001b[0m\u001b[1;33m(\u001b[0m\u001b[0mfontdict\u001b[0m\u001b[1;33m)\u001b[0m\u001b[1;33m\u001b[0m\u001b[1;33m\u001b[0m\u001b[0m\n\u001b[1;32m-> 1796\u001b[1;33m         \u001b[1;32mreturn\u001b[0m \u001b[0mself\u001b[0m\u001b[1;33m.\u001b[0m\u001b[0mset_ticklabels\u001b[0m\u001b[1;33m(\u001b[0m\u001b[0mlabels\u001b[0m\u001b[1;33m,\u001b[0m \u001b[0mminor\u001b[0m\u001b[1;33m=\u001b[0m\u001b[0mminor\u001b[0m\u001b[1;33m,\u001b[0m \u001b[1;33m**\u001b[0m\u001b[0mkwargs\u001b[0m\u001b[1;33m)\u001b[0m\u001b[1;33m\u001b[0m\u001b[1;33m\u001b[0m\u001b[0m\n\u001b[0m\u001b[0;32m   1797\u001b[0m \u001b[1;33m\u001b[0m\u001b[0m\n\u001b[0;32m   1798\u001b[0m     \u001b[1;33m@\u001b[0m\u001b[0mcbook\u001b[0m\u001b[1;33m.\u001b[0m\u001b[0m_make_keyword_only\u001b[0m\u001b[1;33m(\u001b[0m\u001b[1;34m\"3.2\"\u001b[0m\u001b[1;33m,\u001b[0m \u001b[1;34m\"minor\"\u001b[0m\u001b[1;33m)\u001b[0m\u001b[1;33m\u001b[0m\u001b[1;33m\u001b[0m\u001b[0m\n",
      "\u001b[1;32mC:\\ProgramData\\Anaconda3\\lib\\site-packages\\matplotlib\\axis.py\u001b[0m in \u001b[0;36mset_ticklabels\u001b[1;34m(self, ticklabels, minor, **kwargs)\u001b[0m\n\u001b[0;32m   1715\u001b[0m             \u001b[1;31m# remove all tick labels, so only error for > 0 ticklabels\u001b[0m\u001b[1;33m\u001b[0m\u001b[1;33m\u001b[0m\u001b[1;33m\u001b[0m\u001b[0m\n\u001b[0;32m   1716\u001b[0m             \u001b[1;32mif\u001b[0m \u001b[0mlen\u001b[0m\u001b[1;33m(\u001b[0m\u001b[0mlocator\u001b[0m\u001b[1;33m.\u001b[0m\u001b[0mlocs\u001b[0m\u001b[1;33m)\u001b[0m \u001b[1;33m!=\u001b[0m \u001b[0mlen\u001b[0m\u001b[1;33m(\u001b[0m\u001b[0mticklabels\u001b[0m\u001b[1;33m)\u001b[0m \u001b[1;32mand\u001b[0m \u001b[0mlen\u001b[0m\u001b[1;33m(\u001b[0m\u001b[0mticklabels\u001b[0m\u001b[1;33m)\u001b[0m \u001b[1;33m!=\u001b[0m \u001b[1;36m0\u001b[0m\u001b[1;33m:\u001b[0m\u001b[1;33m\u001b[0m\u001b[1;33m\u001b[0m\u001b[0m\n\u001b[1;32m-> 1717\u001b[1;33m                 raise ValueError(\n\u001b[0m\u001b[0;32m   1718\u001b[0m                     \u001b[1;34m\"The number of FixedLocator locations\"\u001b[0m\u001b[1;33m\u001b[0m\u001b[1;33m\u001b[0m\u001b[0m\n\u001b[0;32m   1719\u001b[0m                     \u001b[1;34mf\" ({len(locator.locs)}), usually from a call to\"\u001b[0m\u001b[1;33m\u001b[0m\u001b[1;33m\u001b[0m\u001b[0m\n",
      "\u001b[1;31mValueError\u001b[0m: The number of FixedLocator locations (7), usually from a call to set_ticks, does not match the number of ticklabels (4)."
     ]
    },
    {
     "data": {
      "image/png": "[encoded data removed]",
      "text/plain": [
       "<Figure size 864x432 with 2 Axes>"
      ]
     },
     "metadata": {
      "needs_background": "light"
     },
     "output_type": "display_data"
    }
   ],
   "source": [
    "plot_confusion_matrix(ytest_,yhat_test, classes=emotion_labels, normalize=True, title='Normalized confusion matrix' )\n",
    "plt.show()"
   ]
  },
  {
   "cell_type": "code",
   "execution_count": 116,
   "id": "ebb371fe",
   "metadata": {},
   "outputs": [],
   "source": [
    "Y_pred=model.predict(X_train)\n",
    "Y_pred = np.argmax(Y_pred, axis=1)"
   ]
  },
  {
   "cell_type": "code",
   "execution_count": 112,
   "id": "b3cde6ea",
   "metadata": {
    "scrolled": false
   },
   "outputs": [
    {
     "data": {
      "text/plain": [
       "Text(0.5, 1.0, 'Loss')"
      ]
     },
     "execution_count": 112,
     "metadata": {},
     "output_type": "execute_result"
    },
    {
     "data": {
      "image/png": "[encoded data removed]",
      "text/plain": [
       "<Figure size 864x720 with 2 Axes>"
      ]
     },
     "metadata": {
      "needs_background": "light"
     },
     "output_type": "display_data"
    }
   ],
   "source": [
    "fig, ax=plt.subplots(2,1,figsize=(12,10))\n",
    "fig.suptitle('Train evaluation')\n",
    "\n",
    "sns.lineplot(ax= ax[0],x=np.arange(0,len(history.history['accuracy'])),y=history.history['accuracy'])\n",
    "sns.lineplot(ax= ax[0],x=np.arange(0,len(history.history['accuracy'])),y=history.history['val_accuracy'])\n",
    "\n",
    "ax[0].legend(['Train','Validation'])\n",
    "ax[0].set_title('Accuracy')\n",
    "\n",
    "sns.lineplot(ax= ax[1],x=np.arange(0,len(history.history['loss'])),y=history.history['loss'])\n",
    "sns.lineplot(ax= ax[1],x=np.arange(0,len(history.history['loss'])),y=history.history['val_loss'])\n",
    "\n",
    "ax[1].legend(['Train','Validation'])\n",
    "ax[1].set_title('Loss')"
   ]
  },
  {
   "cell_type": "code",
   "execution_count": 20,
   "id": "6064f344",
   "metadata": {},
   "outputs": [
    {
     "name": "stdout",
     "output_type": "stream",
     "text": [
      "-Acuracy achieved on test set : 95.48%\n",
      "-Accuracy by model was: 92.86%\n",
      "-Accuracy by validation was: 46.41%\n"
     ]
    }
   ],
   "source": [
    "print('-Acuracy achieved on test set : {:.2f}%\\n-Accuracy by model was: {:.2f}%\\n-Accuracy by validation was: {:.2f}%'.\n",
    "      format(accuracy_score(np.where(y_t == 1)[1],Y_pred)*100,(history.history['accuracy'][-1])*100,(history.history['val_accuracy'][-1])*100))"
   ]
  },
  {
   "cell_type": "code",
   "execution_count": null,
   "id": "9aa1204b",
   "metadata": {},
   "outputs": [],
   "source": []
  }
 ],
 "metadata": {
  "kernelspec": {
   "display_name": "Python 3",
   "language": "python",
   "name": "python3"
  }
 },
 "nbformat": 4,
 "nbformat_minor": 5
}
